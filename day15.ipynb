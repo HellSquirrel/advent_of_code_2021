{
 "cells": [
  {
   "cell_type": "code",
   "execution_count": 1,
   "id": "7a58d7e1",
   "metadata": {},
   "outputs": [],
   "source": [
    "import numpy as np\n",
    "import torch\n",
    "from torch.functional import "
   ]
  },
  {
   "cell_type": "code",
   "execution_count": 4,
   "id": "5ffe7816",
   "metadata": {},
   "outputs": [],
   "source": [
    "input = \"\"\"\n",
    "1163751742\n",
    "1381373672\n",
    "2136511328\n",
    "3694931569\n",
    "7463417111\n",
    "1319128137\n",
    "1359912421\n",
    "3125421639\n",
    "1293138521\n",
    "2311944581\n",
    "\"\"\""
   ]
  },
  {
   "cell_type": "code",
   "execution_count": 10,
   "id": "165aa4e5",
   "metadata": {},
   "outputs": [],
   "source": [
    "def get_risk_map(input):\n",
    "    return np.array(\n",
    "        [list(map(int, list(s))) for s in input.split()], dtype=np.float32\n",
    "    )\n",
    "\n",
    "def minPool()"
   ]
  },
  {
   "cell_type": "code",
   "execution_count": 12,
   "id": "7fed967b",
   "metadata": {},
   "outputs": [
    {
     "data": {
      "text/plain": [
       "array([[1., 1., 6., 3., 7., 5., 1., 7., 4., 2.],\n",
       "       [1., 3., 8., 1., 3., 7., 3., 6., 7., 2.],\n",
       "       [2., 1., 3., 6., 5., 1., 1., 3., 2., 8.],\n",
       "       [3., 6., 9., 4., 9., 3., 1., 5., 6., 9.],\n",
       "       [7., 4., 6., 3., 4., 1., 7., 1., 1., 1.],\n",
       "       [1., 3., 1., 9., 1., 2., 8., 1., 3., 7.],\n",
       "       [1., 3., 5., 9., 9., 1., 2., 4., 2., 1.],\n",
       "       [3., 1., 2., 5., 4., 2., 1., 6., 3., 9.],\n",
       "       [1., 2., 9., 3., 1., 3., 8., 5., 2., 1.],\n",
       "       [2., 3., 1., 1., 9., 4., 4., 5., 8., 1.]], dtype=float32)"
      ]
     },
     "execution_count": 12,
     "metadata": {},
     "output_type": "execute_result"
    }
   ],
   "source": [
    "risks = get_risk_map(input)\n",
    "risks"
   ]
  },
  {
   "cell_type": "code",
   "execution_count": null,
   "id": "441e5791",
   "metadata": {},
   "outputs": [],
   "source": []
  }
 ],
 "metadata": {
  "kernelspec": {
   "display_name": "Python 3 (ipykernel)",
   "language": "python",
   "name": "python3"
  },
  "language_info": {
   "codemirror_mode": {
    "name": "ipython",
    "version": 3
   },
   "file_extension": ".py",
   "mimetype": "text/x-python",
   "name": "python",
   "nbconvert_exporter": "python",
   "pygments_lexer": "ipython3",
   "version": "3.7.3"
  }
 },
 "nbformat": 4,
 "nbformat_minor": 5
}
