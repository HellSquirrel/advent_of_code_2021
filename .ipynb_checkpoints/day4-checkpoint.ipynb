{
 "cells": [
  {
   "cell_type": "code",
   "execution_count": 2,
   "id": "b45ff04e",
   "metadata": {},
   "outputs": [],
   "source": [
    "import numpy as np\n",
    "import pandas as pd"
   ]
  },
  {
   "cell_type": "code",
   "execution_count": 5,
   "id": "bae512f8",
   "metadata": {},
   "outputs": [],
   "source": [
    "df = pd.read_csv('./day4-short', sep=\"\\n\")"
   ]
  },
  {
   "cell_type": "code",
   "execution_count": 33,
   "id": "937f22cd",
   "metadata": {},
   "outputs": [
    {
     "data": {
      "text/plain": [
       "array([ 0,  5, 10])"
      ]
     },
     "execution_count": 33,
     "metadata": {},
     "output_type": "execute_result"
    }
   ],
   "source": [
    "np.arange(0,15, 5)"
   ]
  },
  {
   "cell_type": "code",
   "execution_count": 109,
   "id": "84282ee8",
   "metadata": {},
   "outputs": [],
   "source": [
    "def split_str(cols):\n",
    "    return [[int(t) for t in filter(lambda x: x != '',str.split(x[0], sep=\" \"))] for x in cols]"
   ]
  },
  {
   "cell_type": "code",
   "execution_count": 123,
   "id": "f2a63517",
   "metadata": {
    "scrolled": true
   },
   "outputs": [],
   "source": [
    "seq = [int(x) for x in df.columns[0].split(',')]\n",
    "cols = np.array([split_str(df[x: x + 5].to_numpy()) for x in np.arange(0,15, 5)])"
   ]
  },
  {
   "cell_type": "code",
   "execution_count": 150,
   "id": "93790bd5",
   "metadata": {},
   "outputs": [],
   "source": [
    "def apply_seq(seq, col):\n",
    "    return [col == x for x in seq]\n",
    "apply_seq([22, 14], cols)\n",
    "last = np.full((5,5), True)\n",
    "merge_seq(seq, col):\n",
    "    last = \n",
    "    for x of (apply_seq(seq, col))"
   ]
  },
  {
   "cell_type": "code",
   "execution_count": 151,
   "id": "22757430",
   "metadata": {},
   "outputs": [
    {
     "data": {
      "text/plain": [
       "array([[ True,  True,  True,  True,  True],\n",
       "       [ True,  True,  True,  True,  True],\n",
       "       [ True,  True,  True,  True,  True],\n",
       "       [ True,  True,  True,  True,  True],\n",
       "       [ True,  True,  True,  True,  True]])"
      ]
     },
     "execution_count": 151,
     "metadata": {},
     "output_type": "execute_result"
    }
   ],
   "source": []
  },
  {
   "cell_type": "code",
   "execution_count": null,
   "id": "04370ed8",
   "metadata": {},
   "outputs": [],
   "source": []
  },
  {
   "cell_type": "code",
   "execution_count": null,
   "id": "d51a23a2",
   "metadata": {},
   "outputs": [],
   "source": []
  },
  {
   "cell_type": "code",
   "execution_count": null,
   "id": "7ae6a53d",
   "metadata": {},
   "outputs": [],
   "source": []
  }
 ],
 "metadata": {
  "kernelspec": {
   "display_name": "Python 3 (ipykernel)",
   "language": "python",
   "name": "python3"
  },
  "language_info": {
   "codemirror_mode": {
    "name": "ipython",
    "version": 3
   },
   "file_extension": ".py",
   "mimetype": "text/x-python",
   "name": "python",
   "nbconvert_exporter": "python",
   "pygments_lexer": "ipython3",
   "version": "3.9.7"
  }
 },
 "nbformat": 4,
 "nbformat_minor": 5
}
