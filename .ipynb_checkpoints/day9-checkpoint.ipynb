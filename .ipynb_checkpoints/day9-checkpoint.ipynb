{
 "cells": [
  {
   "cell_type": "code",
   "execution_count": 1,
   "id": "70f59bdf",
   "metadata": {},
   "outputs": [],
   "source": [
    "import numpy as np\n",
    "import torch\n",
    "from torch.nn.functional import conv2d"
   ]
  },
  {
   "cell_type": "code",
   "execution_count": 166,
   "id": "227b14c4",
   "metadata": {},
   "outputs": [
    {
     "data": {
      "text/plain": [
       "15.0"
      ]
     },
     "execution_count": 166,
     "metadata": {},
     "output_type": "execute_result"
    }
   ],
   "source": [
    "height_map_str = \"\"\"\n",
    "2199943210\n",
    "3987894921\n",
    "9856789892\n",
    "8767896789\n",
    "9899965678\n",
    "\"\"\"\n",
    "\n",
    "def get_height_map(input):\n",
    "    return np.array(\n",
    "        [list(map(int, list(s))) for s in height_map_str.strip().split('\\n')], dtype=np.float32\n",
    "    )\n",
    "\n",
    "def get_height_map_with_paddings(input):\n",
    "    height_map = get_height_map(input)\n",
    "    (x,y) = height_map.shape\n",
    "    height_map = np.insert(height_map_original, 0, height_map_original[0] + 0.1, axis=0)\n",
    "    height_map = np.insert(height_map, x + 1,  height_map[x] + 0.1, axis=0)\n",
    "    height_map = np.insert(height_map, 0, height_map[:, 0] + 0.1, axis=1)\n",
    "    height_map = np.insert(height_map, y + 1, height_map[:, y] + 0.1, axis=1)\n",
    "    return height_map\n",
    "\n",
    "height_map_original = get_height_map(height_map_str) + 1\n",
    "height_map = get_height_map_with_paddings(height_map_str)\n",
    "\n",
    "\n",
    "masks = [\n",
    "    np.array([[0, 1, 0], [0, -1 ,0], [0,0,0]]),\n",
    "    np.array([[0, 0, 0], [1, -1 ,0], [0,0,0]]),\n",
    "    np.array([[0, 0, 0], [0, -1 ,1], [0,0,0]]),\n",
    "    np.array([[0, 0, 0], [0, -1 ,0], [0,1,0]])]\n",
    "\n",
    "heights = torch.tensor(height_map, dtype=torch.float32).unsqueeze(0).unsqueeze(0)\n",
    "t = [\n",
    "    (conv2d(heights, torch.tensor(mask, dtype=torch.float32).unsqueeze(0).unsqueeze(0))[0][0]) > 0\n",
    "    for mask in masks\n",
    "]\n",
    "\n",
    "np.sum(height_map_original * (t[0] * t[1] * t[2] * t[3]).numpy())\n"
   ]
  },
  {
   "cell_type": "code",
   "execution_count": 237,
   "id": "9d134117",
   "metadata": {},
   "outputs": [
    {
     "name": "stdout",
     "output_type": "stream",
     "text": [
      "tensor([[1., 1., 0., 0., 0., 1., 1., 1., 1., 1.],\n",
      "        [1., 0., 1., 1., 1., 0., 1., 0., 1., 1.],\n",
      "        [0., 1., 1., 1., 1., 1., 0., 1., 0., 1.],\n",
      "        [1., 1., 1., 1., 1., 0., 1., 1., 1., 0.],\n",
      "        [0., 1., 0., 0., 0., 1., 1., 1., 1., 1.]])\n"
     ]
    },
    {
     "data": {
      "text/plain": [
       "tensor([[1., 1., 0., 0., 0., 1., 1., 1., 1., 1.],\n",
       "        [1., 0., 1., 1., 1., 0., 1., 0., 1., 1.],\n",
       "        [0., 1., 1., 1., 1., 1., 0., 1., 0., 1.],\n",
       "        [0., 1., 1., 1., 1., 0., 1., 1., 1., 0.],\n",
       "        [0., 1., 0., 0., 0., 1., 1., 1., 1., 1.]])"
      ]
     },
     "execution_count": 237,
     "metadata": {},
     "output_type": "execute_result"
    }
   ],
   "source": [
    "hm = torch.tensor(get_height_map(height_map_str) + 1)\n",
    "zeros = (hm != 10).type(torch.float32)\n",
    "mask = np.array([[0, 1, 0], [1,1,1], [0,1,0]])\n",
    "print(zeros)\n",
    "conv2d(\n",
    "    (hm != 10).type(torch.float32).unsqueeze(0).unsqueeze(0),\n",
    "    torch.tensor(mask, dtype=torch.float32).unsqueeze(0).unsqueeze(0),\n",
    "    padding=1\n",
    ")[0][0]\n",
    "\n",
    "def zero_after(tensor, coord):\n",
    "    (xStart, yStart) = coord\n",
    "    new_tensor = torch.clone(tensor)\n",
    "    zero_encountered = False\n",
    "    (xMax, yMax) = tensor.shape\n",
    "    for x in np.arange(xStart, xMax):\n",
    "        if (zero_encountered):\n",
    "            new_tensor[x, yStart] = 0\n",
    "        else:\n",
    "            el = tensor[x, yStart]\n",
    "            if (el == 0):\n",
    "                zero_encountered = True\n",
    "                \n",
    "    zero_encountered = False    \n",
    "    for x in np.arange(0, xStart):\n",
    "        if (zero_encountered):\n",
    "            new_tensor[x, yStart] = 0\n",
    "        else:\n",
    "            el = tensor[x, yStart]\n",
    "            if (el == 0):\n",
    "                zero_encountered = True\n",
    "    \n",
    "    zero_encountered = False    \n",
    "    for x in np.arange(0, xStart):\n",
    "        if (zero_encountered):\n",
    "            new_tensor[x, yStart] = 0\n",
    "        else:\n",
    "            el = tensor[x, yStart]\n",
    "            if (el == 0):\n",
    "                zero_encountered = True\n",
    "    \n",
    "    zero_encountered = False    \n",
    "    for x in np.arange(0, xStart):\n",
    "        if (zero_encountered):\n",
    "            new_tensor[x, yStart] = 0\n",
    "        else:\n",
    "            el = tensor[x, yStart]\n",
    "            if (el == 0):\n",
    "                zero_encountered = True\n",
    "                \n",
    "    return new_tensor\n",
    "\n",
    "\n",
    "def find_cluster(tensor, coord):\n",
    "    new_tensor = torch.clone(tensor)\n",
    "    new_tensor = zero_after(new_tensor, coord)\n",
    "    return new_tensor\n",
    "\n",
    "find_cluster(zeros, (0,0))"
   ]
  },
  {
   "cell_type": "code",
   "execution_count": 233,
   "id": "69120166",
   "metadata": {},
   "outputs": [
    {
     "data": {
      "text/plain": [
       "[1, 2, 3, 4]"
      ]
     },
     "execution_count": 233,
     "metadata": {},
     "output_type": "execute_result"
    }
   ],
   "source": [
    "list(range(1, 5))"
   ]
  },
  {
   "cell_type": "code",
   "execution_count": null,
   "id": "8b61f902",
   "metadata": {},
   "outputs": [],
   "source": []
  },
  {
   "cell_type": "code",
   "execution_count": null,
   "id": "200b01d3",
   "metadata": {},
   "outputs": [],
   "source": []
  }
 ],
 "metadata": {
  "kernelspec": {
   "display_name": "Python 3 (ipykernel)",
   "language": "python",
   "name": "python3"
  },
  "language_info": {
   "codemirror_mode": {
    "name": "ipython",
    "version": 3
   },
   "file_extension": ".py",
   "mimetype": "text/x-python",
   "name": "python",
   "nbconvert_exporter": "python",
   "pygments_lexer": "ipython3",
   "version": "3.7.3"
  }
 },
 "nbformat": 4,
 "nbformat_minor": 5
}
