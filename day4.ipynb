{
 "cells": [
  {
   "cell_type": "code",
   "execution_count": 504,
   "id": "d2d3257a",
   "metadata": {},
   "outputs": [],
   "source": [
    "import numpy as np\n",
    "import pandas as pd"
   ]
  },
  {
   "cell_type": "code",
   "execution_count": 644,
   "id": "a3dd98c1",
   "metadata": {},
   "outputs": [],
   "source": [
    "df = pd.read_csv('./day4', sep=\"\\n\")"
   ]
  },
  {
   "cell_type": "code",
   "execution_count": 645,
   "id": "feee5b4e",
   "metadata": {},
   "outputs": [],
   "source": [
    "def split_str(cols):\n",
    "    return [[int(t) for t in filter(lambda x: x != '',str.split(x[0], sep=\" \"))] for x in cols]"
   ]
  },
  {
   "cell_type": "code",
   "execution_count": 646,
   "id": "b6d43170",
   "metadata": {
    "scrolled": true
   },
   "outputs": [],
   "source": [
    "seq = [int(x) for x in df.columns[0].split(',')]\n",
    "cols = np.array([split_str(df[x: x + 5].to_numpy()) for x in np.arange(0,df.size, 5)])"
   ]
  },
  {
   "cell_type": "code",
   "execution_count": 647,
   "id": "d343b7b8",
   "metadata": {},
   "outputs": [
    {
     "data": {
      "text/plain": [
       "(19, 84)"
      ]
     },
     "execution_count": 647,
     "metadata": {},
     "output_type": "execute_result"
    }
   ],
   "source": [
    "def apply_seq(seq, col):\n",
    "    return np.sum(np.vectorize(lambda x: 1 if x else 0)([col == x for x in seq]), axis=0)\n",
    "\n",
    "def find_winner(seq, cols):\n",
    "    win_index = []\n",
    "    seq_index = []\n",
    "    for i in np.arange(0, len(seq)):\n",
    "        checked_boards = apply_seq(seq[:i+1], cols)\n",
    "        for boardIndex in list(np.arange(0, len(checked_boards))):\n",
    "            board = checked_boards[boardIndex]\n",
    "            wins = np.sum(np.prod(board, axis = 0)) == 1 or np.sum(np.prod(board, axis = 1) == 1)\n",
    "            if (wins and (not boardIndex in win_index)):\n",
    "                win_index = win_index + [boardIndex] \n",
    "                seq_index = seq_index + [i]\n",
    "    return (win_index[-1], seq_index[-1])\n",
    "\n",
    "winner = find_winner(seq, cols)\n",
    "winner"
   ]
  },
  {
   "cell_type": "code",
   "execution_count": 648,
   "id": "d8439ad9",
   "metadata": {},
   "outputs": [
    {
     "name": "stdout",
     "output_type": "stream",
     "text": [
      "17 17\n"
     ]
    }
   ],
   "source": [
    "(board_index, seq_index) = find_winner(seq, cols)\n",
    "seq[:seq_index + 1]\n",
    "board = (apply_seq(seq[:seq_index + 1], cols))[boardIndex]\n",
    "np.sum((1 - board) * cols[boardIndex]) * seq[seq_index]\n",
    "# np.sum((1 - board) * cols[boardIndex]) * seq[index]\n",
    "# print(seq[index + 1])\n",
    "# np.sum((1 - apply_seq(seq[:index + 2], cols)[boardIndex]) * cols[boardIndex]) * seq[index + 1]\n",
    "print(seq[36], cols[0,0,0])"
   ]
  },
  {
   "cell_type": "code",
   "execution_count": 649,
   "id": "96d9e65c",
   "metadata": {},
   "outputs": [
    {
     "data": {
      "text/plain": [
       "25925"
      ]
     },
     "execution_count": 649,
     "metadata": {},
     "output_type": "execute_result"
    }
   ],
   "source": [
    "def get_index(seq, cols):\n",
    "    return np.vectorize(lambda x: seq.index(x))(cols)\n",
    "\n",
    "ids = get_index(seq, cols)\n",
    "last_turns = [np.min(np.concatenate([np.max(matrix, axis = 0),np.max(matrix, axis = 1)])) for matrix in ids]\n",
    "last_win_index = last_turns.index(np.max(last_turns))\n",
    "last_win_score_index = np.max(last_turns)\n",
    "make_zeros_and_ones = np.vectorize(lambda x: 1 if x else 0)\n",
    "mask = ids[last_win_index] > last_win_score_index\n",
    "np.sum(make_zeros_and_ones(mask) * cols[last_win_index]) * seq[last_win_score_index]\n"
   ]
  },
  {
   "cell_type": "code",
   "execution_count": null,
   "id": "390595c4",
   "metadata": {},
   "outputs": [],
   "source": []
  },
  {
   "cell_type": "code",
   "execution_count": null,
   "id": "28cf4777",
   "metadata": {},
   "outputs": [],
   "source": []
  }
 ],
 "metadata": {
  "kernelspec": {
   "display_name": "Python 3 (ipykernel)",
   "language": "python",
   "name": "python3"
  },
  "language_info": {
   "codemirror_mode": {
    "name": "ipython",
    "version": 3
   },
   "file_extension": ".py",
   "mimetype": "text/x-python",
   "name": "python",
   "nbconvert_exporter": "python",
   "pygments_lexer": "ipython3",
   "version": "3.9.7"
  }
 },
 "nbformat": 4,
 "nbformat_minor": 5
}
